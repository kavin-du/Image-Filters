{
 "cells": [
  {
   "cell_type": "code",
   "execution_count": null,
   "source": [
    "import numpy as np\n",
    "import cv2\n",
    "from matplotlib import pyplot as plt\n",
    "import math\n",
    "from statistics import median"
   ],
   "outputs": [],
   "metadata": {}
  },
  {
   "cell_type": "code",
   "execution_count": null,
   "source": [
    "# function for displaying a grayscale image\n",
    "def showImage(img):\n",
    "    plt.imshow(img, cmap='gray')\n",
    "    plt.show()"
   ],
   "outputs": [],
   "metadata": {}
  },
  {
   "cell_type": "code",
   "execution_count": null,
   "source": [
    "def convolution2D(img, kernal, rotate):\n",
    "    # kernal should be rotated 180 degrees before applying to convolution\n",
    "    if rotate: \n",
    "        newkernal = np.rot90(kernal, 2)\n",
    "    else: \n",
    "        newkernal = kernal \n",
    "    newimg = np.zeros(img.shape, dtype='uint8') \n",
    "    for row in range(img.shape[0]):\n",
    "        for col in range(img.shape[1]):\n",
    "            val = 0\n",
    "            for i in range(kernal.shape[0]):\n",
    "                for j in range(kernal.shape[1]):\n",
    "                    rowIndex = row+i-kernal.shape[0]+2\n",
    "                    colIndex = col+j-kernal.shape[0]+2\n",
    "                    if rowIndex >= 0 and rowIndex < img.shape[0] and colIndex >=0 and colIndex < img.shape[1]:\n",
    "                        pixel = img[rowIndex][colIndex];\n",
    "                    else: \n",
    "                        pixel = 0\n",
    "                    val += (pixel * newkernal[i][j])\n",
    "            # rounding off values to 8bit integers\n",
    "            newimg[row][col] = 255 if val > 255 else 0 if val < 0 else math.floor(val)\n",
    "    return newimg\n"
   ],
   "outputs": [],
   "metadata": {}
  },
  {
   "cell_type": "code",
   "execution_count": null,
   "source": [
    "def gaussianFilter(img, size, sigma):\n",
    "    k = 1/(2*math.pi*sigma*sigma)\n",
    "    kernal = np.zeros([size, size])\n",
    "\n",
    "    # calculating values for the gaussian kernal\n",
    "    for row in range(size):\n",
    "        for col in range(size):\n",
    "            s = row - (size//2) \n",
    "            t = col - (size//2)\n",
    "            kernal[row][col] = round(k * math.exp(-(s*s + t*t)/(2 * (sigma*sigma))), 4)\n",
    "\n",
    "    weight = np.sum(kernal) # weightor sum of the kernal\n",
    "\n",
    "    # divide by the weight or sum\n",
    "    for row in range(size):\n",
    "        for col in range(size):\n",
    "            kernal[row][col] = round(kernal[row][col]/weight, 4) \n",
    "    # use previously implemented convolution function to apply the kernal\n",
    "    return convolution2D(img, kernal, False)   "
   ],
   "outputs": [],
   "metadata": {}
  },
  {
   "cell_type": "code",
   "execution_count": null,
   "source": [
    "def medianFilter(img, ksize):\n",
    "    padSize = (ksize-1)//2\n",
    "\n",
    "    # replicate the border for padding\n",
    "    padImg = np.pad(img, pad_width=padSize, mode='edge') \n",
    "    newImg = np.zeros(img.shape, dtype='uint8')\n",
    "\n",
    "    for row in range(img.shape[0]):\n",
    "        for col in range(img.shape[1]):\n",
    "            # extract the kernal/window from the padded image\n",
    "            kernal = padImg[row:row+ksize, col:col+ksize]\n",
    "            med = median(kernal.reshape(1,ksize*ksize)[0]) # calculate the median\n",
    "            newImg[row][col] = med\n",
    "    return newImg"
   ],
   "outputs": [],
   "metadata": {}
  },
  {
   "cell_type": "code",
   "execution_count": null,
   "source": [
    "def bilatFilter(img, sigmar, sigmad):\n",
    "    ksize = 5\n",
    "    padSize = (ksize-1)//2\n",
    "    padImg = np.pad(img, pad_width=padSize, mode='edge')\n",
    "    newImg = np.zeros(img.shape, dtype='uint8')\n",
    "\n",
    "    k1 = 1/(2*math.pi*sigmad*sigmad) # domain kernal constant \n",
    "    k2 = 1/(math.sqrt(2*math.pi)*sigmar) # range kernal constant\n",
    "\n",
    "    dkernal = np.zeros([ksize, ksize]) # domain kernal\n",
    "    rkernal = np.zeros([ksize, ksize]) # range/intensity kernal\n",
    "\n",
    "    # calculating the domain kernal component\n",
    "    for row in range(ksize):\n",
    "        for col in range(ksize):\n",
    "            s = row - (ksize//2)\n",
    "            t = col - (ksize//2)\n",
    "            dkernal[row][col] = k1 * math.exp(-(s*s + t*t)/(2 * (sigmad*sigmad)))\n",
    "\n",
    "    for row in range(img.shape[0]):\n",
    "        for col in range(img.shape[1]):\n",
    "            # extract window from the padded image to calculate range kernal\n",
    "            extracted = padImg[row:row+ksize, col:col+ksize]\n",
    "            for i in range(ksize):\n",
    "                for j in range(ksize):\n",
    "                    intensity = img[row][col]-extracted[i][j] \n",
    "                    rkernal[i][j] = k2 * math.exp(-(intensity*intensity)/(2 * (sigmar*sigmar)))\n",
    "            newkernal = (rkernal * dkernal)/np.sum(rkernal * dkernal)\n",
    "            # caculate the new pixel value using kernals\n",
    "            val = np.sum(newkernal * extracted)\n",
    "            # apply the new pixel value\n",
    "            newImg[row][col] = 255 if val > 255 else 0 if val < 0 else math.floor(val)\n",
    "    return newImg\n",
    "\n",
    "            "
   ],
   "outputs": [],
   "metadata": {}
  },
  {
   "cell_type": "code",
   "execution_count": null,
   "source": [
    "if __name__ == '__main__':\n",
    "    # reading the image\n",
    "    noisyImage = cv2.imread('spunifnoisy.jpg', 0)\n",
    "    showImage(noisyImage)"
   ],
   "outputs": [],
   "metadata": {}
  },
  {
   "cell_type": "code",
   "execution_count": null,
   "source": [
    "    Y = np.array([[-1,-1,-1], [0,0,0], [1,1,1]])\n",
    "    print(Y)"
   ],
   "outputs": [],
   "metadata": {}
  },
  {
   "cell_type": "code",
   "execution_count": null,
   "source": [
    "    X = np.zeros([8, 8], dtype='uint8')\n",
    "    X.fill(10)\n",
    "    # print(X)\n",
    "    # showImage(X)"
   ],
   "outputs": [],
   "metadata": {}
  },
  {
   "cell_type": "code",
   "execution_count": null,
   "source": [
    "    newarr = cv2.filter2D(X, -1, Y, borderType=cv2.BORDER_CONSTANT)\n",
    "    # print(newarr)\n",
    "    # showImage(newarr)"
   ],
   "outputs": [],
   "metadata": {}
  },
  {
   "cell_type": "code",
   "execution_count": null,
   "source": [
    "    newarr2 = convolution2D(X, Y, True) # ! make this true\n",
    "    # print(newarr2)\n",
    "    # showImage(newarr2)"
   ],
   "outputs": [],
   "metadata": {}
  },
  {
   "cell_type": "code",
   "execution_count": null,
   "source": [
    "    g1 = cv2.GaussianBlur(noisyImage, (5,5), 1, borderType=cv2.BORDER_CONSTANT)\n",
    "    # showImage(g1)\n",
    "    print(g1)"
   ],
   "outputs": [],
   "metadata": {}
  },
  {
   "cell_type": "code",
   "execution_count": null,
   "source": [
    "    denoise1 = gaussianFilter(noisyImage, 5, 1)\n",
    "    # denoise2 = gaussianFilter(noisyImage, 5)\n",
    "    # showImage(denoise1)\n",
    "    # showImage(denoise1)\n",
    "\n",
    "    print(denoise1)\n"
   ],
   "outputs": [],
   "metadata": {}
  },
  {
   "cell_type": "code",
   "execution_count": null,
   "source": [
    "    med1 = cv2.medianBlur(noisyImage, 3)\n",
    "    # showImage(median)\n",
    "    # print(med1)"
   ],
   "outputs": [],
   "metadata": {}
  },
  {
   "cell_type": "code",
   "execution_count": null,
   "source": [
    "    med1 = medianFilter(noisyImage, 3)\n",
    "    print(med1)\n",
    "    # showImage(med1)\n"
   ],
   "outputs": [],
   "metadata": {}
  },
  {
   "cell_type": "code",
   "execution_count": null,
   "source": [
    "    # bilat = bilatFilter(noisyImage,25, 25)\n",
    "    # showImage(bilat)"
   ],
   "outputs": [],
   "metadata": {}
  },
  {
   "cell_type": "code",
   "execution_count": null,
   "source": [
    "    # blat1 = cv2.bilateralFilter(noisyImage, 5, 25, 25, borderType=cv2.BORDER_CONSTANT)\n",
    "    blat1 = cv2.bilateralFilter(noisyImage, 5, 25, 25)\n",
    "    # showImage(blat1)"
   ],
   "outputs": [],
   "metadata": {}
  },
  {
   "cell_type": "code",
   "execution_count": null,
   "source": [
    "    # val = gaussianFilter(noisyImage, 1)"
   ],
   "outputs": [],
   "metadata": {}
  }
 ],
 "metadata": {
  "kernelspec": {
   "name": "python3",
   "display_name": "Python 3.9.6 64-bit"
  },
  "language_info": {
   "codemirror_mode": {
    "name": "ipython",
    "version": 3
   },
   "file_extension": ".py",
   "mimetype": "text/x-python",
   "name": "python",
   "nbconvert_exporter": "python",
   "pygments_lexer": "ipython3",
   "version": "3.9.6"
  },
  "interpreter": {
   "hash": "767d51c1340bd893661ea55ea3124f6de3c7a262a8b4abca0554b478b1e2ff90"
  }
 },
 "nbformat": 4,
 "nbformat_minor": 5
}