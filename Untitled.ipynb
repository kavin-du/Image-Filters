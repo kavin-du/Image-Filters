{
 "cells": [
  {
   "cell_type": "code",
   "execution_count": 185,
   "source": [
    "import numpy as np\n",
    "import cv2"
   ],
   "outputs": [],
   "metadata": {}
  },
  {
   "cell_type": "code",
   "execution_count": 186,
   "source": [
    "def convolution2D(img, kernal):\n",
    "    # kernal should be rotated 180 degrees before applying to convolution\n",
    "    newkernal = np.rot90(kernal, 2) \n",
    "    newimg = np.zeros(img.shape, dtype='uint8')\n",
    "    for row in range(img.shape[0]):\n",
    "        for col in range(img.shape[1]):\n",
    "            val = 0\n",
    "            for i in range(kernal.shape[0]):\n",
    "                for j in range(kernal.shape[1]):\n",
    "                    rowIndex = row+i-kernal.shape[0]+2\n",
    "                    colIndex = col+j-kernal.shape[0]+2\n",
    "                    if rowIndex >= 0 and rowIndex < img.shape[0] and colIndex >=0 and colIndex < img.shape[1]:\n",
    "                        pixel = img[rowIndex][colIndex];\n",
    "                    else: \n",
    "                        pixel = 0\n",
    "                    val += (pixel * newkernal[i][j])\n",
    "            newimg[row][col] = 255 if val > 255 else 0 if val < 0 else val\n",
    "    return newimg\n"
   ],
   "outputs": [],
   "metadata": {}
  },
  {
   "cell_type": "code",
   "execution_count": 187,
   "source": [
    "Y = np.array([[-1,-1,-1], [0,0,0], [1,1,1]])\n",
    "print(Y)"
   ],
   "outputs": [
    {
     "output_type": "stream",
     "name": "stdout",
     "text": [
      "[[-1 -1 -1]\n",
      " [ 0  0  0]\n",
      " [ 1  1  1]]\n"
     ]
    }
   ],
   "metadata": {}
  },
  {
   "cell_type": "code",
   "execution_count": 189,
   "source": [
    "X = np.zeros([8, 8], dtype='uint8')\n",
    "X.fill(10)\n",
    "print(X)\n"
   ],
   "outputs": [
    {
     "output_type": "stream",
     "name": "stdout",
     "text": [
      "[[10 10 10 10 10 10 10 10]\n",
      " [10 10 10 10 10 10 10 10]\n",
      " [10 10 10 10 10 10 10 10]\n",
      " [10 10 10 10 10 10 10 10]\n",
      " [10 10 10 10 10 10 10 10]\n",
      " [10 10 10 10 10 10 10 10]\n",
      " [10 10 10 10 10 10 10 10]\n",
      " [10 10 10 10 10 10 10 10]]\n"
     ]
    }
   ],
   "metadata": {}
  },
  {
   "cell_type": "code",
   "execution_count": 196,
   "source": [
    "newarr = cv2.filter2D(X, -1, Y, borderType=cv2.BORDER_CONSTANT)\n",
    "print(newarr)"
   ],
   "outputs": [
    {
     "output_type": "stream",
     "name": "stdout",
     "text": [
      "[[20 30 30 30 30 30 30 20]\n",
      " [ 0  0  0  0  0  0  0  0]\n",
      " [ 0  0  0  0  0  0  0  0]\n",
      " [ 0  0  0  0  0  0  0  0]\n",
      " [ 0  0  0  0  0  0  0  0]\n",
      " [ 0  0  0  0  0  0  0  0]\n",
      " [ 0  0  0  0  0  0  0  0]\n",
      " [ 0  0  0  0  0  0  0  0]]\n"
     ]
    }
   ],
   "metadata": {}
  },
  {
   "cell_type": "code",
   "execution_count": 191,
   "source": [
    "newarr2 = convolution2D(X, Y)\n",
    "print(newarr2)"
   ],
   "outputs": [
    {
     "output_type": "stream",
     "name": "stdout",
     "text": [
      "[[ 0  0  0  0  0  0  0  0]\n",
      " [ 0  0  0  0  0  0  0  0]\n",
      " [ 0  0  0  0  0  0  0  0]\n",
      " [ 0  0  0  0  0  0  0  0]\n",
      " [ 0  0  0  0  0  0  0  0]\n",
      " [ 0  0  0  0  0  0  0  0]\n",
      " [ 0  0  0  0  0  0  0  0]\n",
      " [20 30 30 30 30 30 30 20]]\n"
     ]
    }
   ],
   "metadata": {}
  }
 ],
 "metadata": {
  "kernelspec": {
   "name": "python3",
   "display_name": "Python 3.9.6 64-bit"
  },
  "language_info": {
   "codemirror_mode": {
    "name": "ipython",
    "version": 3
   },
   "file_extension": ".py",
   "mimetype": "text/x-python",
   "name": "python",
   "nbconvert_exporter": "python",
   "pygments_lexer": "ipython3",
   "version": "3.9.6"
  },
  "interpreter": {
   "hash": "767d51c1340bd893661ea55ea3124f6de3c7a262a8b4abca0554b478b1e2ff90"
  }
 },
 "nbformat": 4,
 "nbformat_minor": 5
}