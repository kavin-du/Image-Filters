{
 "cells": [
  {
   "cell_type": "code",
   "execution_count": 1,
   "source": [
    "import numpy as np\n",
    "import cv2\n",
    "from matplotlib import pyplot as plt\n",
    "import math\n",
    "from statistics import median"
   ],
   "outputs": [],
   "metadata": {}
  },
  {
   "cell_type": "code",
   "execution_count": 2,
   "source": [
    "# function for displaying a grayscale image\n",
    "def showImage(img):\n",
    "    plt.imshow(img, cmap='gray')\n",
    "    plt.show()"
   ],
   "outputs": [],
   "metadata": {}
  },
  {
   "cell_type": "code",
   "execution_count": 3,
   "source": [
    "def convolution2D(img, kernal, rotate):\n",
    "    # kernal should be rotated 180 degrees before applying to convolution\n",
    "    if rotate: \n",
    "        newkernal = np.rot90(kernal, 2)\n",
    "    else: \n",
    "        newkernal = kernal \n",
    "    newimg = np.zeros(img.shape, dtype='uint8')\n",
    "    for row in range(img.shape[0]):\n",
    "        for col in range(img.shape[1]):\n",
    "            val = 0\n",
    "            for i in range(kernal.shape[0]):\n",
    "                for j in range(kernal.shape[1]):\n",
    "                    rowIndex = row+i-kernal.shape[0]+2\n",
    "                    colIndex = col+j-kernal.shape[0]+2\n",
    "                    if rowIndex >= 0 and rowIndex < img.shape[0] and colIndex >=0 and colIndex < img.shape[1]:\n",
    "                        pixel = img[rowIndex][colIndex];\n",
    "                    else: \n",
    "                        pixel = 0\n",
    "                    val += (pixel * newkernal[i][j])\n",
    "            newimg[row][col] = 255 if val > 255 else 0 if val < 0 else math.floor(val)\n",
    "    return newimg\n"
   ],
   "outputs": [],
   "metadata": {}
  },
  {
   "cell_type": "code",
   "execution_count": 4,
   "source": [
    "def gaussianFilter(img, sigma):\n",
    "    size = 5\n",
    "    k = 1/(2*math.pi*sigma*sigma)\n",
    "    kernal = np.zeros([size, size])\n",
    "    sum = 0\n",
    "\n",
    "    for row in range(size):\n",
    "        for col in range(size):\n",
    "            s = row - size + 2\n",
    "            t = col - size + 2\n",
    "            kernal[row][col] = round(k * math.exp(-(s*s + t*t)/(2 * (sigma*sigma))), 4)\n",
    "            sum += kernal[row][col]\n",
    "\n",
    "    for row in range(size):\n",
    "        for col in range(size):\n",
    "            kernal[row][col] = round(kernal[row][col]/sum, 4)\n",
    "    return convolution2D(img, kernal, False)   "
   ],
   "outputs": [],
   "metadata": {}
  },
  {
   "cell_type": "code",
   "execution_count": 5,
   "source": [
    "def medianFilter(img, ksize):\n",
    "    padImg = np.pad(img, pad_width=1, mode='edge')\n",
    "    newImg = np.zeros(img.shape, dtype='uint8')\n",
    "\n",
    "    for row in range(img.shape[0]):\n",
    "        for col in range(img.shape[1]):\n",
    "            dist = (ksize-1)//2\n",
    "            kernal = padImg[row:row+dist+2, col:col+dist+2]\n",
    "            med = median(kernal.reshape(1,ksize*ksize)[0])\n",
    "            newImg[row][col] = med\n",
    "    return newImg"
   ],
   "outputs": [],
   "metadata": {}
  },
  {
   "cell_type": "code",
   "execution_count": 6,
   "source": [
    "##### main function ?\n",
    "\n",
    "\n",
    "# reading images\n",
    "noisyImage = cv2.imread('spunifnoisy.jpg', 0)\n",
    "# showImage(noisyImage)\n",
    "# print(noisyImage)"
   ],
   "outputs": [],
   "metadata": {}
  },
  {
   "cell_type": "code",
   "execution_count": 7,
   "source": [
    "# arr = np.array([ [6,8,4], [7,8,9],[1,2,3]])\n",
    "# # print(arr)\n",
    "# new = np.pad(arr, 1, mode='edge')\n",
    "# print(new[1:4, 1:4][0])\n",
    "# print(np.sort(new[1:4, 1:4].reshape(1,9))[0][4])\n",
    "# print(median(new[1:4, 1:4][0]))\n"
   ],
   "outputs": [],
   "metadata": {}
  },
  {
   "cell_type": "code",
   "execution_count": 8,
   "source": [
    "Y = np.array([[-1,-1,-1], [0,0,0], [1,1,1]])\n",
    "print(Y)"
   ],
   "outputs": [
    {
     "output_type": "stream",
     "name": "stdout",
     "text": [
      "[[-1 -1 -1]\n",
      " [ 0  0  0]\n",
      " [ 1  1  1]]\n"
     ]
    }
   ],
   "metadata": {}
  },
  {
   "cell_type": "code",
   "execution_count": 9,
   "source": [
    "X = np.zeros([8, 8], dtype='uint8')\n",
    "X.fill(10)\n",
    "print(X)\n",
    "# showImage(X)"
   ],
   "outputs": [
    {
     "output_type": "stream",
     "name": "stdout",
     "text": [
      "[[10 10 10 10 10 10 10 10]\n",
      " [10 10 10 10 10 10 10 10]\n",
      " [10 10 10 10 10 10 10 10]\n",
      " [10 10 10 10 10 10 10 10]\n",
      " [10 10 10 10 10 10 10 10]\n",
      " [10 10 10 10 10 10 10 10]\n",
      " [10 10 10 10 10 10 10 10]\n",
      " [10 10 10 10 10 10 10 10]]\n"
     ]
    }
   ],
   "metadata": {}
  },
  {
   "cell_type": "code",
   "execution_count": 10,
   "source": [
    "newarr = cv2.filter2D(X, -1, Y, borderType=cv2.BORDER_CONSTANT)\n",
    "print(newarr)\n",
    "# showImage(newarr)"
   ],
   "outputs": [
    {
     "output_type": "stream",
     "name": "stdout",
     "text": [
      "[[20 30 30 30 30 30 30 20]\n",
      " [ 0  0  0  0  0  0  0  0]\n",
      " [ 0  0  0  0  0  0  0  0]\n",
      " [ 0  0  0  0  0  0  0  0]\n",
      " [ 0  0  0  0  0  0  0  0]\n",
      " [ 0  0  0  0  0  0  0  0]\n",
      " [ 0  0  0  0  0  0  0  0]\n",
      " [ 0  0  0  0  0  0  0  0]]\n"
     ]
    }
   ],
   "metadata": {}
  },
  {
   "cell_type": "code",
   "execution_count": 11,
   "source": [
    "newarr2 = convolution2D(X, Y, True)\n",
    "print(newarr2)\n",
    "# showImage(newarr2)"
   ],
   "outputs": [
    {
     "output_type": "stream",
     "name": "stdout",
     "text": [
      "[[ 0  0  0  0  0  0  0  0]\n",
      " [ 0  0  0  0  0  0  0  0]\n",
      " [ 0  0  0  0  0  0  0  0]\n",
      " [ 0  0  0  0  0  0  0  0]\n",
      " [ 0  0  0  0  0  0  0  0]\n",
      " [ 0  0  0  0  0  0  0  0]\n",
      " [ 0  0  0  0  0  0  0  0]\n",
      " [20 30 30 30 30 30 30 20]]\n"
     ]
    }
   ],
   "metadata": {}
  },
  {
   "cell_type": "code",
   "execution_count": 12,
   "source": [
    "g1 = cv2.GaussianBlur(noisyImage, (5,5), 1, borderType=cv2.BORDER_CONSTANT)\n",
    "# showImage(g1)\n",
    "print(g1)"
   ],
   "outputs": [
    {
     "output_type": "stream",
     "name": "stdout",
     "text": [
      "[[ 42  59  63 ...  65  60  43]\n",
      " [ 64 100 112 ... 105  91  62]\n",
      " [ 73 127 153 ... 139 112  70]\n",
      " ...\n",
      " [ 61 116 172 ... 177 128  66]\n",
      " [ 50  99 144 ... 168 131  80]\n",
      " [ 37  65  85 ... 119 103  76]]\n"
     ]
    }
   ],
   "metadata": {}
  },
  {
   "cell_type": "code",
   "execution_count": 13,
   "source": [
    "denoise1 = gaussianFilter(noisyImage, 1)\n",
    "# denoise2 = gaussianFilter(noisyImage, 5)\n",
    "# showImage(denoise1)\n",
    "# showImage(denoise2)\n",
    "\n",
    "print(denoise1)"
   ],
   "outputs": [
    {
     "output_type": "stream",
     "name": "stdout",
     "text": [
      "[[ 36  51  56 ...  59  59  42]\n",
      " [ 62  99 110 ... 102  94  64]\n",
      " [ 66 126 151 ... 139 116  73]\n",
      " ...\n",
      " [ 51 112 174 ... 186 134  67]\n",
      " [ 45  99 150 ... 181 146  89]\n",
      " [ 35  66  89 ... 125 115  83]]\n"
     ]
    }
   ],
   "metadata": {}
  },
  {
   "cell_type": "code",
   "execution_count": 14,
   "source": [
    "med1 = cv2.medianBlur(noisyImage, 3)\n",
    "# showImage(median)\n",
    "print(med1)"
   ],
   "outputs": [
    {
     "output_type": "stream",
     "name": "stdout",
     "text": [
      "[[ 81  81  81 ...  85  85  81]\n",
      " [ 83  83  91 ...  95  89  87]\n",
      " [ 73 102 147 ... 124  99  89]\n",
      " ...\n",
      " [ 86  98 206 ... 204 139  86]\n",
      " [ 86  93 100 ... 204 145  77]\n",
      " [ 81  81  93 ... 145 211 145]]\n"
     ]
    }
   ],
   "metadata": {}
  },
  {
   "cell_type": "code",
   "execution_count": 15,
   "source": [
    "med1 = medianFilter(noisyImage, 3)\n",
    "print(med1)\n",
    "# showImage(med1)\n"
   ],
   "outputs": [
    {
     "output_type": "error",
     "ename": "TypeError",
     "evalue": "'numpy.ndarray' object is not callable",
     "traceback": [
      "\u001b[0;31m---------------------------------------------------------------------------\u001b[0m",
      "\u001b[0;31mTypeError\u001b[0m                                 Traceback (most recent call last)",
      "\u001b[0;32m/tmp/ipykernel_17212/3675437346.py\u001b[0m in \u001b[0;36m<module>\u001b[0;34m\u001b[0m\n\u001b[0;32m----> 1\u001b[0;31m \u001b[0mmed1\u001b[0m \u001b[0;34m=\u001b[0m \u001b[0mmedianFilter\u001b[0m\u001b[0;34m(\u001b[0m\u001b[0mnoisyImage\u001b[0m\u001b[0;34m,\u001b[0m \u001b[0;36m3\u001b[0m\u001b[0;34m)\u001b[0m\u001b[0;34m\u001b[0m\u001b[0;34m\u001b[0m\u001b[0m\n\u001b[0m\u001b[1;32m      2\u001b[0m \u001b[0mprint\u001b[0m\u001b[0;34m(\u001b[0m\u001b[0mmed1\u001b[0m\u001b[0;34m)\u001b[0m\u001b[0;34m\u001b[0m\u001b[0;34m\u001b[0m\u001b[0m\n\u001b[1;32m      3\u001b[0m \u001b[0;31m# showImage(med1)\u001b[0m\u001b[0;34m\u001b[0m\u001b[0;34m\u001b[0m\u001b[0;34m\u001b[0m\u001b[0m\n",
      "\u001b[0;32m/tmp/ipykernel_17212/869283663.py\u001b[0m in \u001b[0;36mmedianFilter\u001b[0;34m(img, ksize)\u001b[0m\n\u001b[1;32m      7\u001b[0m             \u001b[0mdist\u001b[0m \u001b[0;34m=\u001b[0m \u001b[0;34m(\u001b[0m\u001b[0mksize\u001b[0m\u001b[0;34m-\u001b[0m\u001b[0;36m1\u001b[0m\u001b[0;34m)\u001b[0m\u001b[0;34m//\u001b[0m\u001b[0;36m2\u001b[0m\u001b[0;34m\u001b[0m\u001b[0;34m\u001b[0m\u001b[0m\n\u001b[1;32m      8\u001b[0m             \u001b[0mkernal\u001b[0m \u001b[0;34m=\u001b[0m \u001b[0mpadImg\u001b[0m\u001b[0;34m[\u001b[0m\u001b[0mrow\u001b[0m\u001b[0;34m:\u001b[0m\u001b[0mrow\u001b[0m\u001b[0;34m+\u001b[0m\u001b[0mdist\u001b[0m\u001b[0;34m+\u001b[0m\u001b[0;36m2\u001b[0m\u001b[0;34m,\u001b[0m \u001b[0mcol\u001b[0m\u001b[0;34m:\u001b[0m\u001b[0mcol\u001b[0m\u001b[0;34m+\u001b[0m\u001b[0mdist\u001b[0m\u001b[0;34m+\u001b[0m\u001b[0;36m2\u001b[0m\u001b[0;34m]\u001b[0m\u001b[0;34m\u001b[0m\u001b[0;34m\u001b[0m\u001b[0m\n\u001b[0;32m----> 9\u001b[0;31m             \u001b[0mmed\u001b[0m \u001b[0;34m=\u001b[0m \u001b[0mmedian\u001b[0m\u001b[0;34m(\u001b[0m\u001b[0mkernal\u001b[0m\u001b[0;34m.\u001b[0m\u001b[0mreshape\u001b[0m\u001b[0;34m(\u001b[0m\u001b[0;36m1\u001b[0m\u001b[0;34m,\u001b[0m\u001b[0mksize\u001b[0m\u001b[0;34m*\u001b[0m\u001b[0mksize\u001b[0m\u001b[0;34m)\u001b[0m\u001b[0;34m[\u001b[0m\u001b[0;36m0\u001b[0m\u001b[0;34m]\u001b[0m\u001b[0;34m)\u001b[0m\u001b[0;34m\u001b[0m\u001b[0;34m\u001b[0m\u001b[0m\n\u001b[0m\u001b[1;32m     10\u001b[0m             \u001b[0mnewImg\u001b[0m\u001b[0;34m[\u001b[0m\u001b[0mrow\u001b[0m\u001b[0;34m]\u001b[0m\u001b[0;34m[\u001b[0m\u001b[0mcol\u001b[0m\u001b[0;34m]\u001b[0m \u001b[0;34m=\u001b[0m \u001b[0mmed\u001b[0m\u001b[0;34m\u001b[0m\u001b[0;34m\u001b[0m\u001b[0m\n\u001b[1;32m     11\u001b[0m     \u001b[0;32mreturn\u001b[0m \u001b[0mnewImg\u001b[0m\u001b[0;34m\u001b[0m\u001b[0;34m\u001b[0m\u001b[0m\n",
      "\u001b[0;31mTypeError\u001b[0m: 'numpy.ndarray' object is not callable"
     ]
    }
   ],
   "metadata": {}
  }
 ],
 "metadata": {
  "kernelspec": {
   "name": "python3",
   "display_name": "Python 3.9.6 64-bit"
  },
  "language_info": {
   "codemirror_mode": {
    "name": "ipython",
    "version": 3
   },
   "file_extension": ".py",
   "mimetype": "text/x-python",
   "name": "python",
   "nbconvert_exporter": "python",
   "pygments_lexer": "ipython3",
   "version": "3.9.6"
  },
  "interpreter": {
   "hash": "767d51c1340bd893661ea55ea3124f6de3c7a262a8b4abca0554b478b1e2ff90"
  }
 },
 "nbformat": 4,
 "nbformat_minor": 5
}