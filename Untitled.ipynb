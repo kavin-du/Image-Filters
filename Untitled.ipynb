{
 "cells": [
  {
   "cell_type": "code",
   "execution_count": 139,
   "source": [
    "import numpy as np\n",
    "import cv2\n",
    "from matplotlib import pyplot as plt\n",
    "import math"
   ],
   "outputs": [],
   "metadata": {}
  },
  {
   "cell_type": "code",
   "execution_count": 140,
   "source": [
    "# function for displaying a grayscale image\n",
    "def showImage(img):\n",
    "    plt.imshow(img, cmap='gray')\n",
    "    plt.show()"
   ],
   "outputs": [],
   "metadata": {}
  },
  {
   "cell_type": "code",
   "execution_count": 141,
   "source": [
    "def convolution2D(img, kernal, rotate):\n",
    "    # kernal should be rotated 180 degrees before applying to convolution\n",
    "    if rotate: \n",
    "        newkernal = np.rot90(kernal, 2)\n",
    "    else: \n",
    "        newkernal = kernal \n",
    "    newimg = np.zeros(img.shape, dtype='uint8')\n",
    "    for row in range(img.shape[0]):\n",
    "        for col in range(img.shape[1]):\n",
    "            val = 0\n",
    "            for i in range(kernal.shape[0]):\n",
    "                for j in range(kernal.shape[1]):\n",
    "                    rowIndex = row+i-kernal.shape[0]+2\n",
    "                    colIndex = col+j-kernal.shape[0]+2\n",
    "                    if rowIndex >= 0 and rowIndex < img.shape[0] and colIndex >=0 and colIndex < img.shape[1]:\n",
    "                        pixel = img[rowIndex][colIndex];\n",
    "                    else: \n",
    "                        pixel = 0\n",
    "                    val += (pixel * newkernal[i][j])\n",
    "            newimg[row][col] = 255 if val > 255 else 0 if val < 0 else val\n",
    "    return newimg\n"
   ],
   "outputs": [],
   "metadata": {}
  },
  {
   "cell_type": "code",
   "execution_count": 142,
   "source": [
    "def gaussianFilter(img, sigma):\n",
    "    size = 3\n",
    "    k = 1/(2*math.pi*sigma*sigma)\n",
    "    kernal = np.zeros([size, size])\n",
    "    sum = 0\n",
    "\n",
    "    for row in range(size):\n",
    "        for col in range(size):\n",
    "            s = row - size + 2\n",
    "            t = col - size + 2\n",
    "            kernal[row][col] = k * math.exp(-(s*s + t*t)/(2 * (sigma*sigma)))\n",
    "            sum += kernal[row][col]\n",
    "\n",
    "    for row in range(size):\n",
    "        for col in range(size):\n",
    "            kernal[row][col] /= sum  \n",
    "    # print(kernal)  \n",
    "    return convolution2D(img, kernal, False)   \n",
    "    # print(sum)\n",
    "    # print(kernal)"
   ],
   "outputs": [],
   "metadata": {}
  },
  {
   "cell_type": "code",
   "execution_count": 143,
   "source": [
    "##### main function ?\n",
    "\n",
    "# gaussianFilter()\n",
    "\n",
    "# reading images\n",
    "noisyImage = cv2.imread('spunifnoisy.jpg', 0)\n",
    "# showImage(noisyImage)"
   ],
   "outputs": [],
   "metadata": {}
  },
  {
   "cell_type": "code",
   "execution_count": 150,
   "source": [
    "denoise1 = gaussianFilter(noisyImage, 1)\n",
    "# denoise2 = gaussianFilter(noisyImage, 5)\n",
    "# showImage(denoise1)\n",
    "# showImage(denoise2)\n",
    "\n",
    "print(denoise1)"
   ],
   "outputs": [
    {
     "output_type": "stream",
     "name": "stdout",
     "text": [
      "[[ 36  51  56 ...  59  59  42]\n",
      " [ 62  99 110 ... 102  94  64]\n",
      " [ 66 126 151 ... 139 116  73]\n",
      " ...\n",
      " [ 51 112 174 ... 186 134  67]\n",
      " [ 45  99 150 ... 181 146  89]\n",
      " [ 35  66  89 ... 125 115  83]]\n"
     ]
    }
   ],
   "metadata": {}
  },
  {
   "cell_type": "code",
   "execution_count": 151,
   "source": [
    "g1 = cv2.GaussianBlur(noisyImage, (3, 3), 1, borderType=cv2.BORDER_CONSTANT)\n",
    "# showImage(g1)\n",
    "print(g1)"
   ],
   "outputs": [
    {
     "output_type": "stream",
     "name": "stdout",
     "text": [
      "[[ 42  59  63 ...  65  60  43]\n",
      " [ 64 100 112 ... 105  91  62]\n",
      " [ 73 127 153 ... 139 112  70]\n",
      " ...\n",
      " [ 61 116 172 ... 177 128  66]\n",
      " [ 50  99 144 ... 168 131  80]\n",
      " [ 37  65  85 ... 119 103  76]]\n"
     ]
    }
   ],
   "metadata": {}
  },
  {
   "cell_type": "code",
   "execution_count": 146,
   "source": [
    "Y = np.array([[-1,-1,-1], [0,0,0], [1,1,1]])\n",
    "print(Y)"
   ],
   "outputs": [
    {
     "output_type": "stream",
     "name": "stdout",
     "text": [
      "[[-1 -1 -1]\n",
      " [ 0  0  0]\n",
      " [ 1  1  1]]\n"
     ]
    }
   ],
   "metadata": {}
  },
  {
   "cell_type": "code",
   "execution_count": 147,
   "source": [
    "X = np.zeros([8, 8], dtype='uint8')\n",
    "X.fill(10)\n",
    "print(X)\n",
    "# showImage(X)"
   ],
   "outputs": [
    {
     "output_type": "stream",
     "name": "stdout",
     "text": [
      "[[10 10 10 10 10 10 10 10]\n",
      " [10 10 10 10 10 10 10 10]\n",
      " [10 10 10 10 10 10 10 10]\n",
      " [10 10 10 10 10 10 10 10]\n",
      " [10 10 10 10 10 10 10 10]\n",
      " [10 10 10 10 10 10 10 10]\n",
      " [10 10 10 10 10 10 10 10]\n",
      " [10 10 10 10 10 10 10 10]]\n"
     ]
    }
   ],
   "metadata": {}
  },
  {
   "cell_type": "code",
   "execution_count": 148,
   "source": [
    "newarr = cv2.filter2D(X, -1, Y, borderType=cv2.BORDER_CONSTANT)\n",
    "print(newarr)\n",
    "# showImage(newarr)"
   ],
   "outputs": [
    {
     "output_type": "stream",
     "name": "stdout",
     "text": [
      "[[20 30 30 30 30 30 30 20]\n",
      " [ 0  0  0  0  0  0  0  0]\n",
      " [ 0  0  0  0  0  0  0  0]\n",
      " [ 0  0  0  0  0  0  0  0]\n",
      " [ 0  0  0  0  0  0  0  0]\n",
      " [ 0  0  0  0  0  0  0  0]\n",
      " [ 0  0  0  0  0  0  0  0]\n",
      " [ 0  0  0  0  0  0  0  0]]\n"
     ]
    }
   ],
   "metadata": {}
  },
  {
   "cell_type": "code",
   "execution_count": 149,
   "source": [
    "newarr2 = convolution2D(X, Y, True)\n",
    "print(newarr2)\n",
    "# showImage(newarr2)"
   ],
   "outputs": [
    {
     "output_type": "stream",
     "name": "stdout",
     "text": [
      "[[ 0  0  0  0  0  0  0  0]\n",
      " [ 0  0  0  0  0  0  0  0]\n",
      " [ 0  0  0  0  0  0  0  0]\n",
      " [ 0  0  0  0  0  0  0  0]\n",
      " [ 0  0  0  0  0  0  0  0]\n",
      " [ 0  0  0  0  0  0  0  0]\n",
      " [ 0  0  0  0  0  0  0  0]\n",
      " [20 30 30 30 30 30 30 20]]\n"
     ]
    }
   ],
   "metadata": {}
  }
 ],
 "metadata": {
  "kernelspec": {
   "name": "python3",
   "display_name": "Python 3.9.6 64-bit"
  },
  "language_info": {
   "codemirror_mode": {
    "name": "ipython",
    "version": 3
   },
   "file_extension": ".py",
   "mimetype": "text/x-python",
   "name": "python",
   "nbconvert_exporter": "python",
   "pygments_lexer": "ipython3",
   "version": "3.9.6"
  },
  "interpreter": {
   "hash": "767d51c1340bd893661ea55ea3124f6de3c7a262a8b4abca0554b478b1e2ff90"
  }
 },
 "nbformat": 4,
 "nbformat_minor": 5
}